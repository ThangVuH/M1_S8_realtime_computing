{
 "cells": [
  {
   "cell_type": "code",
   "execution_count": 1,
   "metadata": {},
   "outputs": [
    {
     "name": "stdout",
     "output_type": "stream",
     "text": [
      "Process data ...\n",
      "reult:  sample data is processed.\n"
     ]
    }
   ],
   "source": [
    "#event\n",
    "def process_data(data,callback):\n",
    "    print('Process data ...')\n",
    "    processed_data = data + \" is processed.\"\n",
    "    callback(processed_data)\n",
    "\n",
    "#callback\n",
    "def print_result(result):\n",
    "    print('reult: ', result)\n",
    "\n",
    "\n",
    "process_data('sample data',print_result)"
   ]
  },
  {
   "cell_type": "markdown",
   "metadata": {},
   "source": [
    "## test with keypad"
   ]
  },
  {
   "cell_type": "code",
   "execution_count": null,
   "metadata": {},
   "outputs": [],
   "source": [
    "import time\n",
    "from pymata4 import pymata4\n",
    "\n",
    "class Keypad:\n",
    "    rows = [2, 3, 4, 5]\n",
    "    cols = [6, 7, 8, 9]\n",
    "    keypad_layout = [\n",
    "        ['1', '2', '3', 'A'],\n",
    "        ['4', '5', '6', 'B'],\n",
    "        ['7', '8', '9', 'C'],\n",
    "        ['*', '0', '#', 'D']\n",
    "    ]\n",
    "\n",
    "    def _init_(self, board, callback=None):\n",
    "        self.board = board\n",
    "        self.callback = callback\n",
    "        self.current_row = 0  # Start scanning with the first row\n",
    "        self.setup_pins()\n",
    "        self.activate_row()\n",
    "        self.entered_code = []\n",
    "        self.last_key_time = time.time()\n",
    "        self.correct_code = ['3', '3', '9']\n",
    "        self.finish_code = ['D', 'D', 'D']\n",
    "\n",
    "    def setup_pins(self):\n",
    "        # Set row pins as outputs and columns as inputs with pull-up\n",
    "        for row in self.rows:\n",
    "            self.board.set_pin_mode_digital_output(row)\n",
    "            self.board.digital_write(row, 1)  # Set all rows high (inactive)\n",
    "        for col in self.cols:\n",
    "            self.board.set_pin_mode_digital_input_pullup(col, self.pin_change_callback)\n",
    "\n",
    "    def activate_row(self):\n",
    "        # Deactivate all rows\n",
    "        for row in self.rows:\n",
    "            self.board.digital_write(row, 1)\n",
    "        # Activate the current row\n",
    "        self.board.digital_write(self.rows[self.current_row], 0)\n",
    "\n",
    "    def pin_change_callback(self, data):\n",
    "        pin, value = data[1], data[2]\n",
    "        if value == 0:  # If state is low, a button is pressed\n",
    "            key = self.keypad_layout[self.current_row][self.cols.index(pin)]\n",
    "            self.toy_example(key)\n",
    "\n",
    "    def toy_example(self, key):\n",
    "        current_time = time.time()\n",
    "        if current_time - self.last_key_time > 5:\n",
    "            self.entered_code = []  # Reset if too long between presses\n",
    "            print(\"Resetting due to timeout...\")\n",
    "        self.last_key_time = current_time\n",
    "        print(f\"Key Pressed: {key}\")\n",
    "        self.entered_code.append(key)\n",
    "\n",
    "        if len(self.entered_code) == 3:\n",
    "            if self.entered_code == self.correct_code:\n",
    "                print(\"Code Correct. Access Granted.\")\n",
    "                for _ in range(5):  # Display access signal\n",
    "                    print(\".\", end=\" \", flush=True)\n",
    "                    time.sleep(1)\n",
    "                print(\"\\nResetting for new code...\")\n",
    "                self.entered_code = []\n",
    "            elif self.entered_code == self.finish_code:\n",
    "                print(\"Stop\")\n",
    "                self.stop = True  # Set a flag to stop the loop\n",
    "            else:\n",
    "                print(\"Incorrect Code. Try again.\")\n",
    "                self.entered_code = []\n",
    "\n",
    "    def start(self):\n",
    "        self.stop = False  # Initialize stop flag\n",
    "        print(\"Starting digicode system. Please wait...\")\n",
    "        time.sleep(1)\n",
    "        print(\"Ready for code entry...\")\n",
    "        try:\n",
    "            while not self.stop:\n",
    "                self.activate_row()\n",
    "                time.sleep(0.1)  # Shorter delay to improve responsiveness\n",
    "                self.current_row = (self.current_row + 1) % len(self.rows)  # Cycle through the rows\n",
    "        except KeyboardInterrupt:\n",
    "            print(\"Program terminated by user.\")\n",
    "        finally:\n",
    "            self.board.shutdown()  # Ensure clean shutdown\n",
    "            print(\"System shutdown cleanly.\")\n",
    "\n",
    "\n",
    "if __name__ == \"_main_\":\n",
    "    board = pymata4.Pymata4()\n",
    "    keypad = Keypad(board)\n",
    "    keypad.start()"
   ]
  }
 ],
 "metadata": {
  "kernelspec": {
   "display_name": "test0",
   "language": "python",
   "name": "python3"
  },
  "language_info": {
   "codemirror_mode": {
    "name": "ipython",
    "version": 3
   },
   "file_extension": ".py",
   "mimetype": "text/x-python",
   "name": "python",
   "nbconvert_exporter": "python",
   "pygments_lexer": "ipython3",
   "version": "3.11.5"
  }
 },
 "nbformat": 4,
 "nbformat_minor": 2
}
